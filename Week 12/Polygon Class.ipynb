{
 "cells": [
  {
   "cell_type": "code",
   "execution_count": null,
   "metadata": {},
   "outputs": [],
   "source": [
    "# The Polygon class\n",
    "from typing import List\n",
    "from math import sqrt\n",
    "\n",
    "\n",
    "class Polygon:\n",
    "    def __init__(self, num_sides_p):\n",
    "        if num_sides < 3:\n",
    "            print(\"ERROR: the number of sides should be equal to or more than 3\")\n",
    "            num_sides = 3\n",
    "        \n",
    "        self.num_sides = num_sides_p\n",
    "        self.sides: List[int] = []\n",
    "        for i in range(0, num_sides_p):\n",
    "            self.sides.append(0)\n",
    "\n",
    "    def input_sides(self) -> None:\n",
    "        for i in self.sides:\n",
    "            self.sides[i] = int(input(f'What is the magnitude of side {i+1}?'))\n",
    "\n",
    "\n",
    "\n",
    "class Triangle(Polygon):\n",
    "    \n",
    "    def __init__(self):\n",
    "        Polygon.__init__(self, 3)\n",
    "\n",
    "    def calculate_area(self) -> float:\n",
    "        # a, b, c = self.sides\n",
    "        # s = (a + b + c)/2\n",
    "        # return ((s*(s-a)*(s-b)*(s-c))**(1/2))\n",
    "        s = (self.sides[0] + self.sides[1] + self.sides[2])/2\n",
    "        return sqrt(s*(s - self.sides[0])*(s - self.sides[1])*(s - self.sides[2]))"
   ]
  }
 ],
 "metadata": {
  "kernelspec": {
   "display_name": "Python 3.8.10 64-bit",
   "language": "python",
   "name": "python3"
  },
  "language_info": {
   "name": "python",
   "version": "3.8.10"
  },
  "orig_nbformat": 4,
  "vscode": {
   "interpreter": {
    "hash": "b081a66ee97bd2b6a16f43955f1d810b7ea816d6eaeb65e157ef9e038445f0c6"
   }
  }
 },
 "nbformat": 4,
 "nbformat_minor": 2
}
