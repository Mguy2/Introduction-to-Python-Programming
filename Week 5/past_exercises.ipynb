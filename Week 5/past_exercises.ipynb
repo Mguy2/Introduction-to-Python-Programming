{
 "cells": [
  {
   "cell_type": "markdown",
   "metadata": {},
   "source": [
    "# Import\n"
   ]
  },
  {
   "cell_type": "code",
   "execution_count": 1,
   "metadata": {},
   "outputs": [],
   "source": [
    "#Import, always make sure this cell is initialised when testing your code. :)\n",
    "\n",
    "from typing import List, Dict\n",
    "\n"
   ]
  },
  {
   "cell_type": "markdown",
   "metadata": {},
   "source": [
    "# TypeHints\n",
    "\n",
    "If you're every struggling with **typehints**, remember that python has some built-in functions that can help you out. \n",
    "\n",
    "To find out the data type, we can use **type(variable)**. To make it easy for yourself, you can immediately print it like so:\n",
    "**print(type(variable))**.\n",
    "\n",
    "Execute the following cell and see it for yourself:"
   ]
  },
  {
   "cell_type": "code",
   "execution_count": 8,
   "metadata": {},
   "outputs": [
    {
     "name": "stdout",
     "output_type": "stream",
     "text": [
      "<class 'int'>\n",
      "<class 'str'>\n",
      "<class 'list'>\n",
      "<class 'str'>\n",
      "<class 'str'>\n"
     ]
    }
   ],
   "source": [
    "this_prints_integer = 10\n",
    "this_prints_string  = \"Hello World!\"\n",
    "this_prints_list    = [\"you can find this value at index [0]\", 1 ,2, \"and this one at[3]\"]\n",
    "\n",
    "\n",
    "print(type(this_prints_integer))\n",
    "print(type(this_prints_string))\n",
    "\n",
    "print(type(this_prints_list))\n",
    "print(type(this_prints_list[0])) # The value at index [0] of this list is of type \"str\"\n",
    "print(type(this_prints_list[3])) # The value at index [3] of this list is of type \"str\""
   ]
  },
  {
   "cell_type": "markdown",
   "metadata": {},
   "source": [
    "# Exercise 1 - Prime Numbers\n",
    "**From exercises week 3**\n",
    "\n",
    "Create a function ```primes``` that takes an integer ```max_num``` as an argument and returns a list containing the prime numbers between 2 and ```max_num``` inclusive.<br>\n",
    "\n",
    "**Notes:**\n",
    "1. You can assume that ```max_num``` is always larger than 2.\n",
    "2. You can create auxiliary functions (helper functions) to help you solve the problem.\n",
    "\n",
    "**Example:**  \n",
    "*Input:*  \n",
    "```python\n",
    "max_num = 23\n",
    "```\n",
    "\n",
    "*Output:*  \n",
    "```Python\n",
    "[2, 3, 5, 7, 11, 13, 17, 19, 23]\n",
    "```\n"
   ]
  },
  {
   "cell_type": "markdown",
   "metadata": {},
   "source": [
    "\n",
    "\n",
    "\n"
   ]
  },
  {
   "cell_type": "markdown",
   "metadata": {},
   "source": [
    "# Exercise 2 - ASCII Code\n",
    "\n",
    "**From exercises week 3**\n",
    "\n",
    "Create the function `char_to_ascii()` that has no input arguments and returns a dictionary (Specify also the datatype of the dictionary elements, i.e. the key, value pairs!). The keys of this dictionary are the lowercase letters a, b, ..., z. The value of each key corresponds to the ASCII code of that key. \n",
    "\n",
    "For instance, the first three key-value pairs of `alphabet` are: `{'a': 97, 'b': 98, 'c': 99}`<br>\n",
    "\n",
    "**Hints:**\n",
    "* The function ```ord(char)``` takes a character and returns the ASCII code of that character.<br>\n",
    "* The function ```chr(int)``` takes an ASCII code and returns its correspoding ASCII character.<br>\n",
    "```python\n",
    "ord('a') == 97\n",
    "chr(97) == 'a'\n",
    "```\n",
    "\n",
    "**Example:**  \n",
    "*Input:*  \n",
    "<pre>\n",
    "None\n",
    "</pre>\n",
    "\n",
    "*Output:*  \n",
    "\n",
    "```Python\n",
    "{ 'a': 97, 'b': 98, 'c': 99, ... }\n",
    "```"
   ]
  },
  {
   "cell_type": "markdown",
   "metadata": {},
   "source": [
    "\n",
    "\n",
    "\n"
   ]
  }
 ],
 "metadata": {
  "kernelspec": {
   "display_name": "Python 3.8.13 ('University')",
   "language": "python",
   "name": "python3"
  },
  "language_info": {
   "codemirror_mode": {
    "name": "ipython",
    "version": 3
   },
   "file_extension": ".py",
   "mimetype": "text/x-python",
   "name": "python",
   "nbconvert_exporter": "python",
   "pygments_lexer": "ipython3",
   "version": "3.8.13"
  },
  "orig_nbformat": 4,
  "vscode": {
   "interpreter": {
    "hash": "d6ad0b2fac33f84c9958c3243c45563890999a871d7d59537c0a73ec5cdd0ae6"
   }
  }
 },
 "nbformat": 4,
 "nbformat_minor": 2
}
