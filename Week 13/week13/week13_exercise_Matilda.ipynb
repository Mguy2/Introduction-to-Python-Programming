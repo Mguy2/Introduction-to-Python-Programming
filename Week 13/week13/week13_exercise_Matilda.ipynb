{
 "cells": [
  {
   "cell_type": "markdown",
   "id": "7f754285",
   "metadata": {},
   "source": [
    "# Supplementary Exercises Week 13 "
   ]
  },
  {
   "cell_type": "markdown",
   "id": "4e3df61e",
   "metadata": {},
   "source": [
    "## Little Puzzles\n",
    "\n",
    "Make a class solutions that does not take any parameters. Create two functions in the class, two_sum and letter_combinations. \n",
    "\n",
    "The two_sum function should find the two indices of a pair of numbers whose sum equals a specific target number. Therefore, the function takes a list with integers and a target integer as keyword arguments. The function then returns the two indices. \n",
    "\n",
    "</pre>\n",
    "\n",
    "*Input:*  \n",
    "\n",
    "<pre>\n",
    "numbers: [10,20,10,40,50,60,70], target: 50\n",
    "\n",
    "</pre>\n",
    "\n",
    "*Output:*  \n",
    "<pre>\n",
    "index 1: 2, index 2: 3\n",
    "\n",
    "</pre>\n",
    "\n",
    "The letter_combinations function should get all possible two digit letter combinations from a digit (1 to 9) string. Use the following dictionary as mapping from the numbers to the letters.\n",
    "\n",
    "string_maps = {\n",
    "            \"1\": \"abc\",\n",
    "            \"2\": \"def\",\n",
    "            \"3\": \"ghi\",\n",
    "            \"4\": \"jkl\",\n",
    "            \"5\": \"mno\",\n",
    "            \"6\": \"pqrs\",\n",
    "            \"7\": \"tuv\",\n",
    "            \"8\": \"wxy\",\n",
    "            \"9\": \"z\"\n",
    "        }\n",
    "\n",
    "</pre>\n",
    "\n",
    "*Input:*  \n",
    "\n",
    "<pre>\n",
    "sample_input = \"47\"\n",
    "\n",
    "</pre>\n",
    "\n",
    "*Output:*  \n",
    "<pre>\n",
    "['jt', 'ju', 'jv', 'kt', 'ku', 'kv', 'lt', 'lu', 'lv']\n",
    "</pre>"
   ]
  },
  {
   "cell_type": "code",
   "execution_count": 1,
   "id": "e889dc27",
   "metadata": {},
   "outputs": [],
   "source": [
    "#optional definitions\n",
    "from typing import List, Tuple\n",
    "\n",
    "#// BEGIN_TODO\n",
    "class solutions:\n",
    "    def two_sum(self, numbers: List[int], target: int) -> Tuple[int, int]:\n",
    "        \"\"\"\n",
    "        Finds the two indices of a pair of elements whose sum equals a specific target number.\n",
    "\n",
    "        :param numbers: List of numbers \n",
    "        :param target: Target number\n",
    "        returns two indices \n",
    "        \"\"\"\n",
    "        lookup = {}\n",
    "\n",
    "        for i, num in enumerate(numbers):\n",
    "           if target - num in lookup:\n",
    "               return (lookup[target - num], i)\n",
    "           lookup[num] = i\n",
    "\n",
    "    def letter_combinations(self, digits: str) -> List[str]:\n",
    "        \"\"\"\n",
    "        Gets all possible two digit letter combinations from a digit (1 to 9) string.\n",
    "        \n",
    "        :param digits: String of digits\n",
    "        returns a list with all letter combinations\n",
    "        \"\"\"\n",
    "        if digits == \"\":\n",
    "            return []\n",
    "\n",
    "        string_maps = {\n",
    "            \"1\": \"abc\",\n",
    "            \"2\": \"def\",\n",
    "            \"3\": \"ghi\",\n",
    "            \"4\": \"jkl\",\n",
    "            \"5\": \"mno\",\n",
    "            \"6\": \"pqrs\",\n",
    "            \"7\": \"tuv\",\n",
    "            \"8\": \"wxy\",\n",
    "            \"9\": \"z\"\n",
    "        }\n",
    "        result = [\"\"]\n",
    "\n",
    "        for num in digits:\n",
    "            temp = []\n",
    "            for an in result:\n",
    "                for char in string_maps[num]:\n",
    "                    temp.append(an + char)\n",
    "            result = temp\n",
    "        return result\n",
    "        \n",
    "#// END_TODO"
   ]
  },
  {
   "cell_type": "code",
   "execution_count": 2,
   "id": "af8bf7d4",
   "metadata": {},
   "outputs": [
    {
     "name": "stdout",
     "output_type": "stream",
     "text": [
      "index1=2, index2=3\n"
     ]
    }
   ],
   "source": [
    "index1, index2 = solutions().two_sum(numbers=[10,20,10,40,50,60,70], target=50)\n",
    "print(f\"index1={index1}, index2={index2}\")"
   ]
  },
  {
   "cell_type": "code",
   "execution_count": 3,
   "id": "7a10ab8d",
   "metadata": {},
   "outputs": [
    {
     "name": "stdout",
     "output_type": "stream",
     "text": [
      "['jt', 'ju', 'jv', 'kt', 'ku', 'kv', 'lt', 'lu', 'lv']\n",
      "['dz', 'ez', 'fz']\n"
     ]
    }
   ],
   "source": [
    "digit_string = \"47\"\n",
    "print(solutions().letter_combinations(digit_string))\n",
    "digit_string = \"29\"\n",
    "print(solutions().letter_combinations(digit_string))"
   ]
  }
 ],
 "metadata": {
  "kernelspec": {
   "display_name": "Python 3.10.4 ('advancedMachineLearning')",
   "language": "python",
   "name": "python3"
  },
  "language_info": {
   "codemirror_mode": {
    "name": "ipython",
    "version": 3
   },
   "file_extension": ".py",
   "mimetype": "text/x-python",
   "name": "python",
   "nbconvert_exporter": "python",
   "pygments_lexer": "ipython3",
   "version": "3.10.4"
  },
  "vscode": {
   "interpreter": {
    "hash": "4ade60115be3a8bfc00bc5d4fae59dc65a0c94a4e25c5763a7dd66cbb726b48f"
   }
  }
 },
 "nbformat": 4,
 "nbformat_minor": 5
}
